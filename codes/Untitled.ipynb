{
 "cells": [
  {
   "cell_type": "code",
   "execution_count": 1,
   "metadata": {},
   "outputs": [],
   "source": [
    "# header files required \n",
    "import numpy as np\n",
    "import random"
   ]
  },
  {
   "cell_type": "code",
   "execution_count": null,
   "metadata": {},
   "outputs": [],
   "source": [
    "# define class\n",
    "class RRT(object):\n",
    "    \n",
    "    def __init__(self, X, Q, x_init, x_goal, max_samples, r, prc = 0.01):\n",
    "        \"\"\"\n",
    "        Inputs:\n",
    "        \n",
    "        X: the search space\n",
    "        Q: list of length of edges added to tree\n",
    "        x_init: the start point\n",
    "        x_goal: the goal point\n",
    "        max_samples: the number of samples to be taken for the problem\n",
    "        r: the resolution\n",
    "        prc: probability of checking whether there is a soln or not\n",
    "        \"\"\"\n",
    "        \n",
    "        self.X = X\n",
    "        self.Q = Q\n",
    "        self.x_init = x_init\n",
    "        self.x_goal = x_goal\n",
    "        self.max_samples = max_samples\n",
    "        self.r = r\n",
    "        self.prc = prc\n",
    "        self.samples_taken = 0\n",
    "        self.trees = []\n",
    "        \n",
    "        \n",
    "    def add_vertex(self, tree, v):\n",
    "        \"\"\"\n",
    "        Inputs:\n",
    "        \n",
    "        tree: the graph to insert a vertex in\n",
    "        v: the vertex to be added\n",
    "        \"\"\"\n",
    "        \n",
    "        self.trees[tree].V.insert(0, v+v, v)\n",
    "        self.trees[tree].V_count += 1\n",
    "        self.samples_taken = self.samples_taken + 1\n",
    "        \n",
    "    \n",
    "    def add_edge(self, tree, child, parent):\n",
    "        \"\"\"\n",
    "        Inputs:\n",
    "        \n",
    "        tree: the graph to insert a vertex in\n",
    "        child: the node currently visiting\n",
    "        parent: the parent of the child node\n",
    "        \"\"\"\n",
    "        \n",
    "        self.trees[tree].E[child] = parent\n",
    "        \n",
    "    \n",
    "    def nearby(self, tree, x, n):\n",
    "        \"\"\"\n",
    "        Inputs:\n",
    "        \n",
    "        tree: the graph to insert a vertex in\n",
    "        x: vertex around which the nearby neighbour to be searched\n",
    "        n: the max number of neighbours to be found\n",
    "        \"\"\"\n",
    "        \n",
    "        return self.trees[tree].V.nearest(x, num_results=n, objects=\"raw\")\n",
    "    \n",
    "    "
   ]
  }
 ],
 "metadata": {
  "kernelspec": {
   "display_name": "Python 3",
   "language": "python",
   "name": "python3"
  },
  "language_info": {
   "codemirror_mode": {
    "name": "ipython",
    "version": 2
   },
   "file_extension": ".py",
   "mimetype": "text/x-python",
   "name": "python",
   "nbconvert_exporter": "python",
   "pygments_lexer": "ipython2",
   "version": "2.7.12"
  }
 },
 "nbformat": 4,
 "nbformat_minor": 2
}
